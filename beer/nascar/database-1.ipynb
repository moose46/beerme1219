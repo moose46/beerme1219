{
 "cells": [
  {
   "cell_type": "code",
   "execution_count": 29,
   "metadata": {},
   "outputs": [
    {
     "name": "stdout",
     "output_type": "stream",
     "text": [
      "PWD=c:\\Users\\me\\Documents\\VisualCodeSource\\beerme1219\\beer\\beer\n",
      "Bristol Motor Speedway 0.533 - Concrete oval / Dirt oval\n"
     ]
    },
    {
     "data": {
      "text/plain": [
       "<QuerySet [<Race: Food City Dirt Race - 2022-04-17>, <Race: NASCAR Cup Series at Bristol - 2024-03-17>]>"
      ]
     },
     "execution_count": 29,
     "metadata": {},
     "output_type": "execute_result"
    }
   ],
   "source": [
    "# from models import Race\n",
    "# from django.contrib.auth.models import User\n",
    "# https://blog.theodo.com/2020/11/django-jupyter-vscode-setup/\n",
    "import sys\n",
    "from django.db import models\n",
    "from django.utils import timezone\n",
    "import django\n",
    "# from models import Race\n",
    "import os\n",
    "import pathlib\n",
    "\n",
    "from nascar.models import Race,Track\n",
    "# https://stackoverflow.com/questions/35483328/how-do-i-set-up-jupyter-ipython-notebook-for-django#37866744\n",
    "\n",
    "PWD = os.path.dirname(os.path.dirname(os.path.abspath(\"database-1.ipynb\")))\n",
    "print(f'PWD={PWD}\\\\beer')\n",
    "sys.path.insert(0, f\"{PWD}\\\\beer\")\n",
    "# wsqi.py\n",
    "os.environ.setdefault(\"DJANGO_SETTINGS_MODULE\", \"beer.settings\")\n",
    "#  Allow queryset filtering asynchronously when running in a Jupyter notebook\n",
    "os.environ[\"DJANGO_ALLOW_ASYNC_UNSAFE\"] = \"true\"\n",
    "\n",
    "django.setup()\n",
    "track_pk=5\n",
    "# Race.objects.get(pk=1)\n",
    "print(Track.objects.get(pk=track_pk))\n",
    "\n",
    "# get all races for a track #\n",
    "Track.objects.get(pk=track_pk).race_set.all()"
   ]
  }
 ],
 "metadata": {
  "kernelspec": {
   "display_name": ".venv",
   "language": "python",
   "name": "python3"
  },
  "language_info": {
   "codemirror_mode": {
    "name": "ipython",
    "version": 3
   },
   "file_extension": ".py",
   "mimetype": "text/x-python",
   "name": "python",
   "nbconvert_exporter": "python",
   "pygments_lexer": "ipython3",
   "version": "3.9.1"
  }
 },
 "nbformat": 4,
 "nbformat_minor": 2
}
