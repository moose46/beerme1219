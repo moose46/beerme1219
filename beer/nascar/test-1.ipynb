{
 "cells": [
  {
   "cell_type": "markdown",
   "metadata": {},
   "source": [
    "### Setup the environment to run juypter and django\n",
    "Run this block of code first"
   ]
  },
  {
   "cell_type": "code",
   "execution_count": null,
   "metadata": {},
   "outputs": [],
   "source": [
    "import os,sys\n",
    "import django\n",
    "from django.db import models\n",
    "from django.db.models import Subquery, OuterRef\n",
    "PWD = os.path.dirname(os.path.dirname(os.path.abspath(\"test-1.ipynb\")))\n",
    "print(f\"PWD={PWD}\\\\\")\n",
    "sys.path.insert(0, f\"{PWD}\")\n",
    "\n",
    "# wsqi.py\n",
    "os.environ.setdefault(\"DJANGO_SETTINGS_MODULE\", \"beer.settings\")\n",
    "#  Allow queryset filtering asynchronously when running in a Jupyter notebook\n",
    "os.environ[\"DJANGO_ALLOW_ASYNC_UNSAFE\"] = \"true\"\n",
    "\n",
    "django.setup()\n",
    "\n",
    "\n"
   ]
  },
  {
   "cell_type": "markdown",
   "metadata": {},
   "source": [
    "### Get the race schedule for 2024"
   ]
  },
  {
   "cell_type": "code",
   "execution_count": 17,
   "metadata": {},
   "outputs": [
    {
     "name": "stdout",
     "output_type": "stream",
     "text": [
      "SELECT `race`.`date_created`, `race`.`user_id`, `race`.`date_updated`, `race`.`RACE_ID`, `race`.`RACE_NAME`, `race`.`RACE_DATE`, `race`.`Race Time`, `race`.`TRACK_ID`, `race`.`TV/RADIO` FROM `race` WHERE `race`.`RACE_DATE` > 2024-03-01 ORDER BY `race`.`RACE_DATE` ASC\n",
      "Las Vegas Motor Speedway Pennzoil 400 - 2024-03-03\n",
      "Phoenix Raceway Shriners Children's 500 - 2024-03-10\n",
      "Bristol Motor Speedway NASCAR Cup Series at Bristol - 2024-03-17\n",
      "Circuit Of The Americas NASCAR Cup Series at Circuit of the Americas - 2024-03-24\n",
      "Richmond Raceway NASCAR Cup Series at Richmond - 2024-03-31\n",
      "Martinsville Speedway NASCAR Cup Series at Martinsville - 2024-04-07\n",
      "Texas Motor Speedway NASCAR Cup Series at Texas - 2024-04-14\n"
     ]
    }
   ],
   "source": [
    "from nascar.models import Bet, Race, Track\n",
    "\n",
    "# Race.objects.get(pk=1)\n",
    "# https://docs.djangoproject.com/en/5.0/ref/models/expressions/\n",
    "# print(Track.objects.get(pk=track_pk))\n",
    "\n",
    "race_schedule = Race.objects.filter(race_date__gt=\"2024-03-01\")\n",
    "# print the actual sql code\n",
    "print(race_schedule.query)\n",
    "# race_schedule = Race.objects.filter(bet=OuterRef(\"pk\"))\n",
    "for rs in race_schedule:\n",
    "    print(rs)"
   ]
  },
  {
   "cell_type": "markdown",
   "metadata": {},
   "source": [
    "### Get all the bets"
   ]
  },
  {
   "cell_type": "code",
   "execution_count": 21,
   "metadata": {},
   "outputs": [
    {
     "name": "stdout",
     "output_type": "stream",
     "text": [
      "SELECT `race`.`TRACK_ID` FROM `race` WHERE `race`.`TRACK_ID` = (SELECT U0.`TRACK_ID` FROM `race` U0 WHERE U0.`RACE_DATE` > 2024-03-01 ORDER BY U0.`RACE_DATE` ASC) ORDER BY `race`.`RACE_DATE` ASC\n",
      "32 Greg Daytona International Speedway Daytona 500 - 2024-02-18 22 - Joey Logano / Team Penske\n",
      "14 Bob Daytona International Speedway Daytona 500 - 2024-02-18 9 - Chase Elliott / Hendrick Motorsports\n",
      "28 Bob Atlanta Motor Speedway Ambetter Health 400 - 2024-02-25 22 - Joey Logano / Team Penske\n",
      "32 Greg Atlanta Motor Speedway Ambetter Health 400 - 2024-02-25 5 - Kyle Larson / Hendrick Motorsports\n",
      "1 Greg Las Vegas Motor Speedway Pennzoil 400 - 2024-03-03 5 - Kyle Larson / Hendrick Motorsports\n",
      "10 Bob Las Vegas Motor Speedway Pennzoil 400 - 2024-03-03 24 - William Byron / Hendrick Motorsports\n"
     ]
    }
   ],
   "source": [
    "# https://books.agiliq.com/projects/django-orm-cookbook/en/latest/query.html\n",
    "sq = Race.objects.filter(track_fk=Subquery(race_schedule.values(\"track_fk\"))).values(\n",
    "    \"track_fk\"\n",
    ")\n",
    "# print(sq)\n",
    "# show the sql query \n",
    "print(sq.query)\n",
    "# get all bets\n",
    "bets = Bet.objects.select_related(\"race_fk\")\n",
    "# print all bets \n",
    "for b in bets:\n",
    "    print(f\"{b.finish} {b.player_fk} {b.race_fk} {b.driver_fk}\")"
   ]
  }
 ],
 "metadata": {
  "kernelspec": {
   "display_name": "Python 3",
   "language": "python",
   "name": "python3"
  },
  "language_info": {
   "codemirror_mode": {
    "name": "ipython",
    "version": 3
   },
   "file_extension": ".py",
   "mimetype": "text/x-python",
   "name": "python",
   "nbconvert_exporter": "python",
   "pygments_lexer": "ipython3",
   "version": "undefined.undefined.undefined"
  }
 },
 "nbformat": 4,
 "nbformat_minor": 2
}
