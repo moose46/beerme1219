{
 "cells": [
  {
   "cell_type": "markdown",
   "metadata": {},
   "source": [
    "### Setup the environment to run juypter and django\n",
    "Run this block of code first"
   ]
  },
  {
   "cell_type": "code",
   "execution_count": 3,
   "metadata": {},
   "outputs": [
    {
     "name": "stdout",
     "output_type": "stream",
     "text": [
      "PWD=c:\\Users\\me\\Documents\\VisualCodeSource\\beerme1219\\beer\\\n"
     ]
    }
   ],
   "source": [
    "import os,sys\n",
    "import django\n",
    "from django.db import models\n",
    "from django.db.models import Subquery, OuterRef\n",
    "from django.db.models import Q\n",
    "\n",
    "PWD = os.path.dirname(os.path.dirname(os.path.abspath(\"test-1.ipynb\")))\n",
    "print(f\"PWD={PWD}\\\\\")\n",
    "sys.path.insert(0, f\"{PWD}\")\n",
    "\n",
    "# wsqi.py\n",
    "os.environ.setdefault(\"DJANGO_SETTINGS_MODULE\", \"beer.settings\")\n",
    "#  Allow queryset filtering asynchronously when running in a Jupyter notebook\n",
    "os.environ[\"DJANGO_ALLOW_ASYNC_UNSAFE\"] = \"true\"\n",
    "\n",
    "django.setup()\n",
    "from django.contrib.auth.models import User\n",
    "from nascar.models import Bet, Race, Track, Driver"
   ]
  },
  {
   "cell_type": "markdown",
   "metadata": {},
   "source": [
    "### Get the race schedule for 2024"
   ]
  },
  {
   "cell_type": "code",
   "execution_count": 7,
   "metadata": {},
   "outputs": [
    {
     "name": "stdout",
     "output_type": "stream",
     "text": [
      "SELECT `race`.`date_created`, `race`.`user_id`, `race`.`date_updated`, `race`.`RACE_ID`, `race`.`RACE_NAME`, `race`.`RACE_DATE`, `race`.`Race Time`, `race`.`TRACK_ID`, `race`.`TV/RADIO` FROM `race` WHERE `race`.`RACE_DATE` > 2024-03-01 ORDER BY `race`.`RACE_DATE` ASC\n",
      "Las Vegas Motor Speedway Pennzoil 400 - 2024-03-03\n",
      "Phoenix Raceway Shriners Children's 500 - 2024-03-10\n",
      "Bristol Motor Speedway NASCAR Cup Series at Bristol - 2024-03-17\n",
      "Circuit Of The Americas NASCAR Cup Series at Circuit of the Americas - 2024-03-24\n",
      "Richmond Raceway NASCAR Cup Series at Richmond - 2024-03-31\n",
      "Martinsville Speedway NASCAR Cup Series at Martinsville - 2024-04-07\n",
      "Texas Motor Speedway NASCAR Cup Series at Texas - 2024-04-14\n"
     ]
    }
   ],
   "source": [
    "\n",
    "# Race.objects.get(pk=1)\n",
    "# https://docs.djangoproject.com/en/5.0/ref/models/expressions/\n",
    "# print(Track.objects.get(pk=track_pk))\n",
    "\n",
    "race_schedule = Race.objects.filter(race_date__gt=\"2024-03-01\")\n",
    "# print the actual sql code\n",
    "print(race_schedule.query)\n",
    "# race_schedule = Race.objects.filter(bet=OuterRef(\"pk\"))\n",
    "for rs in race_schedule:\n",
    "    print(rs)"
   ]
  },
  {
   "cell_type": "markdown",
   "metadata": {},
   "source": [
    "### Get all the bets"
   ]
  },
  {
   "cell_type": "code",
   "execution_count": 8,
   "metadata": {},
   "outputs": [
    {
     "name": "stdout",
     "output_type": "stream",
     "text": [
      "SELECT `race`.`TRACK_ID` FROM `race` WHERE `race`.`TRACK_ID` = (SELECT U0.`TRACK_ID` FROM `race` U0 WHERE U0.`RACE_DATE` > 2024-03-01 ORDER BY U0.`RACE_DATE` ASC) ORDER BY `race`.`RACE_DATE` ASC\n",
      "32 Greg Daytona International Speedway Daytona 500 - 2024-02-18 22 - Joey Logano / Team Penske\n",
      "14 Bob Daytona International Speedway Daytona 500 - 2024-02-18 9 - Chase Elliott / Hendrick Motorsports\n",
      "28 Bob Atlanta Motor Speedway Ambetter Health 400 - 2024-02-25 22 - Joey Logano / Team Penske\n",
      "32 Greg Atlanta Motor Speedway Ambetter Health 400 - 2024-02-25 5 - Kyle Larson / Hendrick Motorsports\n",
      "5 Greg Las Vegas Motor Speedway Pennzoil 400 - 2024-03-03 12 - Ryan Blaney / Team Penske\n",
      "18 Bob Las Vegas Motor Speedway Pennzoil 400 - 2024-03-03 24 - William Byron / Hendrick Motorsports\n"
     ]
    }
   ],
   "source": [
    "# https://books.agiliq.com/projects/django-orm-cookbook/en/latest/subquery.html\n",
    "# make sure to the the code block above first\n",
    "sq = Race.objects.filter(track=Subquery(race_schedule.values(\"track\"))).values(\n",
    "    \"track\"\n",
    ")\n",
    "# print(sq)\n",
    "# show the sql query\n",
    "print(sq.query)\n",
    "# get all bets\n",
    "bets = Bet.objects.select_related(\"race\")\n",
    "# print all bets\n",
    "for b in bets:\n",
    "    print(f\"{b.finish} {b.player} {b.race} {b.driver}\")"
   ]
  },
  {
   "cell_type": "markdown",
   "metadata": {},
   "source": [
    "### Get All Drivers who names start with 'R' or 'J'"
   ]
  },
  {
   "cell_type": "code",
   "execution_count": null,
   "metadata": {},
   "outputs": [],
   "source": [
    "\n",
    "print(Driver.objects.filter(name__startswith='R') | Driver.objects.filter(name__startswith='J'))\n",
    "\n",
    "Driver.objects.filter(Q(name__startswith=\"R\") | Q(name__startswith=\"N\")).order_by('name')"
   ]
  },
  {
   "cell_type": "markdown",
   "metadata": {},
   "source": [
    "### Get race dates greater than 1/1/2024 and track names that begin with a 'D' | 'R' | 'P'\n",
    "https://books.agiliq.com/projects/django-orm-cookbook/en/latest/and_query.html"
   ]
  },
  {
   "cell_type": "code",
   "execution_count": null,
   "metadata": {},
   "outputs": [],
   "source": [
    "qs1 = Race.objects.filter(track_fk__track_name__startswith='D', race_date__gt = '2024-01-01')\n",
    "qs2 = Race.objects.filter(track_fk__track_name__startswith='D') & Race.objects.filter( race_date__gt = '2024-01-01')\n",
    "qs3 = Race.objects.filter(Q(track_fk__track_name__startswith='D') & Q( race_date__gt = '2024-01-01'))\n",
    "print(qs1)\n",
    "print(qs2)\n",
    "print(qs3)\n"
   ]
  },
  {
   "cell_type": "markdown",
   "metadata": {},
   "source": [
    "### How to do a NOT query in Django queryset?\n",
    "https://books.agiliq.com/projects/django-orm-cookbook/en/latest/notequal_query.html"
   ]
  },
  {
   "cell_type": "code",
   "execution_count": null,
   "metadata": {},
   "outputs": [],
   "source": [
    "# AJ Allmendinger is gone\n",
    "qs = Driver.objects.filter(~Q(name__startswith='A')).order_by(\"name\")\n",
    "qs"
   ]
  },
  {
   "cell_type": "markdown",
   "metadata": {},
   "source": [
    "### 5. How to do union of two querysets from same or different models?\n",
    "5. How to do union of two querysets from same or different models?\n",
    "\n",
    "https://books.agiliq.com/projects/django-orm-cookbook/en/latest/notequal_query.html"
   ]
  },
  {
   "cell_type": "code",
   "execution_count": 4,
   "metadata": {},
   "outputs": [
    {
     "name": "stdout",
     "output_type": "stream",
     "text": [
      "<QuerySet [(datetime.date(2022, 3, 6),), (datetime.date(2023, 3, 5),), (datetime.date(2023, 3, 19),), (datetime.date(2023, 3, 26),), (datetime.date(2024, 2, 18),), (datetime.date(2024, 2, 25),), (datetime.date(2024, 3, 3),), (datetime.date(2024, 3, 10),), (datetime.date(2024, 3, 17),), (datetime.date(2024, 3, 24),), (datetime.date(2024, 3, 31),), (datetime.date(2024, 4, 7),), (datetime.date(2024, 4, 14),)]>\n",
      "<QuerySet [{'race__race_date': datetime.date(2024, 2, 18)}, {'race__race_date': datetime.date(2024, 2, 18)}, {'race__race_date': datetime.date(2024, 2, 25)}, {'race__race_date': datetime.date(2024, 2, 25)}, {'race__race_date': datetime.date(2024, 3, 3)}, {'race__race_date': datetime.date(2024, 3, 3)}]>\n"
     ]
    },
    {
     "data": {
      "text/plain": [
       "<QuerySet [(datetime.date(2022, 3, 6),), (datetime.date(2023, 3, 5),), (datetime.date(2023, 3, 19),), (datetime.date(2023, 3, 26),), (datetime.date(2024, 2, 18),), (datetime.date(2024, 2, 25),), (datetime.date(2024, 3, 3),), (datetime.date(2024, 3, 10),), (datetime.date(2024, 3, 17),), (datetime.date(2024, 3, 24),), (datetime.date(2024, 3, 31),), (datetime.date(2024, 4, 7),), (datetime.date(2024, 4, 14),)]>"
      ]
     },
     "execution_count": 4,
     "metadata": {},
     "output_type": "execute_result"
    }
   ],
   "source": [
    "bob = Bet.objects.filter(race__race_date='2024-03-10').values_list('player__player_name','race__race_date','driver__name','finish')\n",
    "greg = Bet.objects.filter(Q(race__race_date='2024-03-10') & Q(player__player_name = 'Greg')).values_list('player__player_name','race__race_date','driver__name','finish')\n",
    "bob.union(greg)\n",
    "\n",
    "race1 = Race.objects.all().values_list('race_date')\n",
    "bets = Bet.objects.all().values('race__race_date')\n",
    "print(race1)\n",
    "print(bets)\n",
    "race1.union(bets)"
   ]
  }
 ],
 "metadata": {
  "kernelspec": {
   "display_name": "Python 3",
   "language": "python",
   "name": "python3"
  },
  "language_info": {
   "codemirror_mode": {
    "name": "ipython",
    "version": 3
   },
   "file_extension": ".py",
   "mimetype": "text/x-python",
   "name": "python",
   "nbconvert_exporter": "python",
   "pygments_lexer": "ipython3",
   "version": "3.9.1"
  }
 },
 "nbformat": 4,
 "nbformat_minor": 2
}
