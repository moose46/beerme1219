{
 "cells": [
  {
   "cell_type": "markdown",
   "metadata": {},
   "source": [
    "### Setup the environment to run juypter and django\n",
    "Run this block of code first"
   ]
  },
  {
   "cell_type": "code",
   "execution_count": 13,
   "metadata": {},
   "outputs": [
    {
     "name": "stdout",
     "output_type": "stream",
     "text": [
      "PWD=c:\\Users\\me\\Documents\\VisualCodeSource\\beerme1219\\beer\\\n"
     ]
    }
   ],
   "source": [
    "import os,sys\n",
    "import django\n",
    "from django.db import models\n",
    "from django.db.models import Subquery, OuterRef\n",
    "from django.db.models import Q\n",
    "\n",
    "PWD = os.path.dirname(os.path.dirname(os.path.abspath(\"test-1.ipynb\")))\n",
    "print(f\"PWD={PWD}\\\\\")\n",
    "sys.path.insert(0, f\"{PWD}\")\n",
    "\n",
    "# wsqi.py\n",
    "os.environ.setdefault(\"DJANGO_SETTINGS_MODULE\", \"beer.settings\")\n",
    "#  Allow queryset filtering asynchronously when running in a Jupyter notebook\n",
    "os.environ[\"DJANGO_ALLOW_ASYNC_UNSAFE\"] = \"true\"\n",
    "\n",
    "django.setup()\n",
    "from django.contrib.auth.models import User\n",
    "from nascar.models import Bet, Race, Track, Driver"
   ]
  },
  {
   "cell_type": "markdown",
   "metadata": {},
   "source": [
    "### Get the race schedule for 2024"
   ]
  },
  {
   "cell_type": "code",
   "execution_count": 14,
   "metadata": {},
   "outputs": [
    {
     "name": "stdout",
     "output_type": "stream",
     "text": [
      "SELECT `race`.`id`, `race`.`date_created`, `race`.`user_id`, `race`.`date_updated`, `race`.`race_name`, `race`.`race_date`, `race`.`Race Time`, `race`.`track_id`, `race`.`TV/RADIO` FROM `race` WHERE `race`.`race_date` > 2024-03-01 ORDER BY `race`.`race_date` ASC\n",
      "Las Vegas Motor Speedway Pennzoil 400 - 2024-03-03\n",
      "Phoenix Raceway Shriners Children's 500 - 2024-03-10\n",
      "Bristol Motor Speedway NASCAR Cup Series at Bristol - 2024-03-17\n",
      "Circuit Of The Americas NASCAR Cup Series at Circuit of the Americas - 2024-03-24\n",
      "Richmond Raceway NASCAR Cup Series at Richmond - 2024-03-31\n",
      "Martinsville Speedway NASCAR Cup Series at Martinsville - 2024-04-07\n",
      "Texas Motor Speedway NASCAR Cup Series at Texas - 2024-04-14\n"
     ]
    }
   ],
   "source": [
    "\n",
    "# Race.objects.get(pk=1)\n",
    "# https://docs.djangoproject.com/en/5.0/ref/models/expressions/\n",
    "# print(Track.objects.get(pk=track_pk))\n",
    "\n",
    "race_schedule = Race.objects.filter(race_date__gt=\"2024-03-01\")\n",
    "# print the actual sql code\n",
    "print(race_schedule.query)\n",
    "# race_schedule = Race.objects.filter(bet=OuterRef(\"pk\"))\n",
    "for rs in race_schedule:\n",
    "    print(rs)"
   ]
  },
  {
   "cell_type": "markdown",
   "metadata": {},
   "source": [
    "### Get all the bets"
   ]
  },
  {
   "cell_type": "code",
   "execution_count": 15,
   "metadata": {},
   "outputs": [
    {
     "name": "stdout",
     "output_type": "stream",
     "text": [
      "SELECT `race`.`track_id` FROM `race` WHERE `race`.`track_id` = (SELECT U0.`track_id` FROM `race` U0 WHERE U0.`race_date` > 2024-03-01 ORDER BY U0.`race_date` ASC) ORDER BY `race`.`race_date` ASC\n",
      "32 Greg Daytona International Speedway Daytona 500 - 2024-02-18 22 - Joey Logano / Team Penske\n",
      "14 Bob Daytona International Speedway Daytona 500 - 2024-02-18 9 - Chase Elliott / Hendrick Motorsports\n",
      "28 Bob Atlanta Motor Speedway Ambetter Health 400 - 2024-02-25 22 - Joey Logano / Team Penske\n",
      "32 Greg Atlanta Motor Speedway Ambetter Health 400 - 2024-02-25 5 - Kyle Larson / Hendrick Motorsports\n",
      "5 Greg Las Vegas Motor Speedway Pennzoil 400 - 2024-03-03 12 - Ryan Blaney / Team Penske\n",
      "18 Bob Las Vegas Motor Speedway Pennzoil 400 - 2024-03-03 24 - William Byron / Hendrick Motorsports\n"
     ]
    }
   ],
   "source": [
    "# https://books.agiliq.com/projects/django-orm-cookbook/en/latest/subquery.html\n",
    "# make sure to the the code block above first\n",
    "sq = Race.objects.filter(track=Subquery(race_schedule.values(\"track\"))).values(\n",
    "    \"track\"\n",
    ")\n",
    "# print(sq)\n",
    "# show the sql query\n",
    "print(sq.query)\n",
    "# get all bets\n",
    "bets = Bet.objects.select_related(\"race\")\n",
    "# print all bets\n",
    "for b in bets:\n",
    "    print(f\"{b.finish} {b.player} {b.race} {b.driver}\")"
   ]
  },
  {
   "cell_type": "markdown",
   "metadata": {},
   "source": [
    "### Get All Drivers who names start with 'R' or 'J'"
   ]
  },
  {
   "cell_type": "code",
   "execution_count": 16,
   "metadata": {},
   "outputs": [
    {
     "name": "stdout",
     "output_type": "stream",
     "text": [
      "<QuerySet [<Driver: 1 - Ross Chastain / Trackhouse Racing>, <Driver: 12 - Ryan Blaney / Team Penske>, <Driver: 51 - J.J. Yeley / In-Active>, <Driver: 15 - Riley Herbst / In-Active>, <Driver: 22 - Joey Logano / Team Penske>, <Driver: 31 - Justin Haley / Rick Ware Racing>, <Driver: 41 - Ryan Preece / Stewart-Haas Racing>, <Driver: 47 - Ricky Stenhouse Jr. / JTG Daugherty Racing>, <Driver: 84 - Jimmie Johnson / Legacy Motor Club>, <Driver: 9 - Josh Berry / Stewart-Haas Racing>, <Driver: 42 - John Hunter Nemechek / Legacy Motor Club>]>\n"
     ]
    },
    {
     "data": {
      "text/plain": [
       "<QuerySet [<Driver: None - N/A / In-Active>, <Driver: 42 - Noah Gragson / Stewart-Haas Racing>, <Driver: 47 - Ricky Stenhouse Jr. / JTG Daugherty Racing>, <Driver: 15 - Riley Herbst / In-Active>, <Driver: 1 - Ross Chastain / Trackhouse Racing>, <Driver: 12 - Ryan Blaney / Team Penske>, <Driver: 41 - Ryan Preece / Stewart-Haas Racing>]>"
      ]
     },
     "execution_count": 16,
     "metadata": {},
     "output_type": "execute_result"
    }
   ],
   "source": [
    "\n",
    "print(Driver.objects.filter(name__startswith='R') | Driver.objects.filter(name__startswith='J'))\n",
    "\n",
    "Driver.objects.filter(Q(name__startswith=\"R\") | Q(name__startswith=\"N\")).order_by('name')"
   ]
  },
  {
   "cell_type": "markdown",
   "metadata": {},
   "source": [
    "### Get race dates greater than 1/1/2024 and track names that begin with a 'D' | 'R' | 'P'\n",
    "https://books.agiliq.com/projects/django-orm-cookbook/en/latest/and_query.html"
   ]
  },
  {
   "cell_type": "code",
   "execution_count": 17,
   "metadata": {},
   "outputs": [
    {
     "name": "stdout",
     "output_type": "stream",
     "text": [
      "<QuerySet [<Race: Daytona International Speedway Daytona 500 - 2024-02-18>]>\n",
      "<QuerySet [<Race: Daytona International Speedway Daytona 500 - 2024-02-18>]>\n",
      "<QuerySet [<Race: Daytona International Speedway Daytona 500 - 2024-02-18>]>\n"
     ]
    }
   ],
   "source": [
    "qs1 = Race.objects.filter(track__track_name__startswith='D', race_date__gt = '2024-01-01')\n",
    "qs2 = Race.objects.filter(track__track_name__startswith='D') & Race.objects.filter( race_date__gt = '2024-01-01')\n",
    "qs3 = Race.objects.filter(Q(track__track_name__startswith='D') & Q( race_date__gt = '2024-01-01'))\n",
    "print(qs1)\n",
    "print(qs2)\n",
    "print(qs3)\n"
   ]
  },
  {
   "cell_type": "markdown",
   "metadata": {},
   "source": [
    "### How to do a NOT query in Django queryset?\n",
    "https://books.agiliq.com/projects/django-orm-cookbook/en/latest/notequal_query.html"
   ]
  },
  {
   "cell_type": "code",
   "execution_count": 18,
   "metadata": {},
   "outputs": [
    {
     "data": {
      "text/plain": [
       "<QuerySet [<Driver: 78 - B.J. McLeod / Live Fast Motorsports>, <Driver: 6 - Brad Keselowski / RFK Racing>, <Driver: 23 - Bubba Wallace / 23XI Racing>, <Driver: 77 - Carson Hocevar / Spire Motorsports>, <Driver: 14 - Chase Briscoe / Stewart-Haas Racing>, <Driver: 9 - Chase Elliott / Hendrick Motorsports>, <Driver: 17 - Chris Buescher / RFK Racing>, <Driver: 20 - Christopher Bell / Joe Gibbs Racing>, <Driver: 51 - Cody Ware / Rick Ware Racing>, <Driver: 50 - Conor Daly / In-Active>, <Driver: 7 - Corey LaJoie / Spire Motorsports>, <Driver: 31 - Daniel Hemric / Kaulig Racing>, <Driver: 99 - Daniel Suarez / Trackhouse Racing>, <Driver: 11 - Denny Hamlin / Joe Gibbs Racing>, <Driver: 43 - Erik Jones / Legacy Motor Club>, <Driver: 21 - Harrison Burton / Wood Brothers Racing>, <Driver: 51 - J.J. Yeley / In-Active>, <Driver: 84 - Jimmie Johnson / Legacy Motor Club>, <Driver: 22 - Joey Logano / Team Penske>, <Driver: 42 - John Hunter Nemechek / Legacy Motor Club>, '...(remaining elements truncated)...']>"
      ]
     },
     "execution_count": 18,
     "metadata": {},
     "output_type": "execute_result"
    }
   ],
   "source": [
    "# AJ Allmendinger is gone\n",
    "qs = Driver.objects.filter(~Q(name__startswith='A')).order_by(\"name\")\n",
    "qs"
   ]
  },
  {
   "cell_type": "markdown",
   "metadata": {},
   "source": [
    "### 5. How to do union of two querysets from same or different models?\n",
    "5. How to do union of two querysets from same or different models?\n",
    "\n",
    "https://books.agiliq.com/projects/django-orm-cookbook/en/latest/notequal_query.html"
   ]
  },
  {
   "cell_type": "code",
   "execution_count": 19,
   "metadata": {},
   "outputs": [
    {
     "name": "stdout",
     "output_type": "stream",
     "text": [
      "<QuerySet [(datetime.date(2022, 3, 6),), (datetime.date(2023, 3, 5),), (datetime.date(2023, 3, 19),), (datetime.date(2023, 3, 26),), (datetime.date(2024, 2, 18),), (datetime.date(2024, 2, 25),), (datetime.date(2024, 3, 3),), (datetime.date(2024, 3, 10),), (datetime.date(2024, 3, 17),), (datetime.date(2024, 3, 24),), (datetime.date(2024, 3, 31),), (datetime.date(2024, 4, 7),), (datetime.date(2024, 4, 14),)]>\n",
      "<QuerySet [{'race__race_date': datetime.date(2024, 2, 18)}, {'race__race_date': datetime.date(2024, 2, 18)}, {'race__race_date': datetime.date(2024, 2, 25)}, {'race__race_date': datetime.date(2024, 2, 25)}, {'race__race_date': datetime.date(2024, 3, 3)}, {'race__race_date': datetime.date(2024, 3, 3)}]>\n"
     ]
    },
    {
     "data": {
      "text/plain": [
       "<QuerySet [(datetime.date(2022, 3, 6),), (datetime.date(2023, 3, 5),), (datetime.date(2023, 3, 19),), (datetime.date(2023, 3, 26),), (datetime.date(2024, 2, 18),), (datetime.date(2024, 2, 25),), (datetime.date(2024, 3, 3),), (datetime.date(2024, 3, 10),), (datetime.date(2024, 3, 17),), (datetime.date(2024, 3, 24),), (datetime.date(2024, 3, 31),), (datetime.date(2024, 4, 7),), (datetime.date(2024, 4, 14),)]>"
      ]
     },
     "execution_count": 19,
     "metadata": {},
     "output_type": "execute_result"
    }
   ],
   "source": [
    "bob = Bet.objects.filter(race__race_date='2024-03-10').values_list('player__player_name','race__race_date','driver__name','finish')\n",
    "greg = Bet.objects.filter(Q(race__race_date='2024-03-10') & Q(player__player_name = 'Greg')).values_list('player__player_name','race__race_date','driver__name','finish')\n",
    "bob.union(greg)\n",
    "\n",
    "race1 = Race.objects.all().values_list('race_date')\n",
    "bets = Bet.objects.all().values('race__race_date')\n",
    "print(race1)\n",
    "print(bets)\n",
    "race1.union(bets)"
   ]
  }
 ],
 "metadata": {
  "kernelspec": {
   "display_name": "Python 3",
   "language": "python",
   "name": "python3"
  },
  "language_info": {
   "codemirror_mode": {
    "name": "ipython",
    "version": 3
   },
   "file_extension": ".py",
   "mimetype": "text/x-python",
   "name": "python",
   "nbconvert_exporter": "python",
   "pygments_lexer": "ipython3",
   "version": "3.9.1"
  }
 },
 "nbformat": 4,
 "nbformat_minor": 2
}
